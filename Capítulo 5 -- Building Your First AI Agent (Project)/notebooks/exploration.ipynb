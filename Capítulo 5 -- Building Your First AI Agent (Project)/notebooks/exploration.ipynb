# Exploration Notebook for Research Assistant AI Agent
# Run this in Colab or Jupyter

from langchain.llms import OpenAI
from langchain import PromptTemplate, LLMChain

prompt = PromptTemplate.from_template("Explain {concept} in simple terms.")
chain = LLMChain(llm=OpenAI(temperature=0.6), prompt=prompt)
response = chain.run("What are AI agents?")
print(response)
